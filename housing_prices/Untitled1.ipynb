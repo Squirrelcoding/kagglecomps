{
  "nbformat": 4,
  "nbformat_minor": 0,
  "metadata": {
    "colab": {
      "provenance": []
    },
    "kernelspec": {
      "name": "python3",
      "display_name": "Python 3"
    },
    "language_info": {
      "name": "python"
    }
  },
  "cells": [
    {
      "cell_type": "code",
      "execution_count": 324,
      "metadata": {
        "id": "62IZSv7H0Kzl"
      },
      "outputs": [],
      "source": [
        "import torch\n",
        "import pandas as pd\n",
        "import numpy as np\n",
        "from matplotlib import pyplot as plt"
      ]
    },
    {
      "cell_type": "code",
      "source": [
        "df = pd.read_csv(\"train.csv\")\n",
        "\n",
        "\n",
        "bad_columns = [\"Id\"]\n",
        "\n",
        "for column in df.columns:\n",
        "  null_count = 0\n",
        "  for i, row in df.iterrows():\n",
        "    if pd.isna(row[column]):\n",
        "      null_count += 1\n",
        "  if null_count / df.shape[0] > 0.4:\n",
        "    bad_columns.append(column)\n",
        "\n",
        "df = df.drop(columns=bad_columns, axis=1)"
      ],
      "metadata": {
        "id": "PEkQ970g0cEZ"
      },
      "execution_count": 340,
      "outputs": []
    },
    {
      "cell_type": "code",
      "source": [
        "# Remove all columns that mostly have the same value (>90%)\n",
        "\n",
        "low_variability_columns = []\n",
        "\n",
        "for column in df.columns:\n",
        "  if df[column].value_counts(normalize=True).values[0] > 0.9:\n",
        "    low_variability_columns.append(column)\n",
        "df = df.drop(columns=low_variability_columns, axis=1)"
      ],
      "metadata": {
        "id": "F0-9lx55490L"
      },
      "execution_count": 341,
      "outputs": []
    },
    {
      "cell_type": "markdown",
      "source": [
        "The following correlations make sesne\n",
        "\n",
        "- GarageYrBlt, YearBuilt\n",
        "- Exterior1st, Exterior2nd\n",
        "- BsmtFinSF2, BsmtFinType2\n",
        "- GrLivArea, 1stFlrSF\n",
        "- BldgType, MSSubClass\n",
        "- 1stFlrSF, TotalBsmtSF\n",
        "\n",
        "We'll get rid of GarageYrBlt, TotalBsmtSF, GrLivArea, Exterior2nd, BsmtFinType2."
      ],
      "metadata": {
        "id": "So-wHAKCCgBf"
      }
    },
    {
      "cell_type": "code",
      "source": [
        "correlated_columns = [\"GarageYrBlt\", \"TotalBsmtSF\", \"GrLivArea\", \"Exterior2nd\", \"BsmtFinType2\"]\n",
        "\n",
        "df = df.drop(columns=correlated_columns, axis=1)\n",
        "\n",
        "df.info()"
      ],
      "metadata": {
        "colab": {
          "base_uri": "https://localhost:8080/"
        },
        "id": "RKCdg6O1B_So",
        "outputId": "6026c016-011c-46b7-fd68-878896705a31"
      },
      "execution_count": 342,
      "outputs": [
        {
          "output_type": "stream",
          "name": "stdout",
          "text": [
            "<class 'pandas.core.frame.DataFrame'>\n",
            "RangeIndex: 1460 entries, 0 to 1459\n",
            "Data columns (total 49 columns):\n",
            " #   Column         Non-Null Count  Dtype  \n",
            "---  ------         --------------  -----  \n",
            " 0   MSSubClass     1460 non-null   int64  \n",
            " 1   MSZoning       1460 non-null   object \n",
            " 2   LotFrontage    1201 non-null   float64\n",
            " 3   LotArea        1460 non-null   int64  \n",
            " 4   LotShape       1460 non-null   object \n",
            " 5   LandContour    1460 non-null   object \n",
            " 6   LotConfig      1460 non-null   object \n",
            " 7   Neighborhood   1460 non-null   object \n",
            " 8   Condition1     1460 non-null   object \n",
            " 9   BldgType       1460 non-null   object \n",
            " 10  HouseStyle     1460 non-null   object \n",
            " 11  OverallQual    1460 non-null   int64  \n",
            " 12  OverallCond    1460 non-null   int64  \n",
            " 13  YearBuilt      1460 non-null   int64  \n",
            " 14  YearRemodAdd   1460 non-null   int64  \n",
            " 15  RoofStyle      1460 non-null   object \n",
            " 16  Exterior1st    1460 non-null   object \n",
            " 17  MasVnrArea     1452 non-null   float64\n",
            " 18  ExterQual      1460 non-null   object \n",
            " 19  ExterCond      1460 non-null   object \n",
            " 20  Foundation     1460 non-null   object \n",
            " 21  BsmtQual       1423 non-null   object \n",
            " 22  BsmtExposure   1422 non-null   object \n",
            " 23  BsmtFinType1   1423 non-null   object \n",
            " 24  BsmtFinSF1     1460 non-null   int64  \n",
            " 25  BsmtFinSF2     1460 non-null   int64  \n",
            " 26  BsmtUnfSF      1460 non-null   int64  \n",
            " 27  HeatingQC      1460 non-null   object \n",
            " 28  1stFlrSF       1460 non-null   int64  \n",
            " 29  2ndFlrSF       1460 non-null   int64  \n",
            " 30  BsmtFullBath   1460 non-null   int64  \n",
            " 31  FullBath       1460 non-null   int64  \n",
            " 32  HalfBath       1460 non-null   int64  \n",
            " 33  BedroomAbvGr   1460 non-null   int64  \n",
            " 34  KitchenQual    1460 non-null   object \n",
            " 35  TotRmsAbvGrd   1460 non-null   int64  \n",
            " 36  Fireplaces     1460 non-null   int64  \n",
            " 37  GarageType     1379 non-null   object \n",
            " 38  GarageFinish   1379 non-null   object \n",
            " 39  GarageCars     1460 non-null   int64  \n",
            " 40  GarageArea     1460 non-null   int64  \n",
            " 41  WoodDeckSF     1460 non-null   int64  \n",
            " 42  OpenPorchSF    1460 non-null   int64  \n",
            " 43  EnclosedPorch  1460 non-null   int64  \n",
            " 44  MoSold         1460 non-null   int64  \n",
            " 45  YrSold         1460 non-null   int64  \n",
            " 46  SaleType       1460 non-null   object \n",
            " 47  SaleCondition  1460 non-null   object \n",
            " 48  SalePrice      1460 non-null   int64  \n",
            "dtypes: float64(2), int64(25), object(22)\n",
            "memory usage: 559.0+ KB\n"
          ]
        }
      ]
    },
    {
      "cell_type": "code",
      "source": [
        "from sklearn.linear_model import LinearRegression\n",
        "import numpy as np\n",
        "\n",
        "\n",
        "def combine_optimally_for_price(new_column, existing_columns):\n",
        "  # Features for the area\n",
        "  X = df[existing_columns]\n",
        "\n",
        "  # Target (SalePrice)\n",
        "  y = df['SalePrice']\n",
        "\n",
        "  # Initialize the model\n",
        "  model = LinearRegression()\n",
        "\n",
        "  # Fit the model to find the optimal weights\n",
        "  model.fit(X, y)\n",
        "\n",
        "  # Get the learned weights (coefficients) for each feature\n",
        "  optimal_weights = model.coef_\n",
        "\n",
        "  # Combine the features with the learned weights to create the new 'TotalArea'\n",
        "\n",
        "  for i in range(len(existing_columns)):\n",
        "    df[new_column] += optimal_weights[i] * df[existing_columns[i]]\n",
        "\n",
        "  return optimal_weights\n",
        "\n",
        "df['TotalArea'] = 0\n",
        "\n",
        "combine_optimally_for_price(\"TotalArea\", ['GarageArea', 'BsmtFinSF1', '2ndFlrSF', '1stFlrSF', 'WoodDeckSF'])\n",
        "\n",
        "df[\"TotalArea\"].corr(df[\"SalePrice\"])"
      ],
      "metadata": {
        "colab": {
          "base_uri": "https://localhost:8080/"
        },
        "id": "PZgIupR0OupF",
        "outputId": "94bdd4cd-61a1-4926-bc58-d665943f969d"
      },
      "execution_count": 375,
      "outputs": [
        {
          "output_type": "execute_result",
          "data": {
            "text/plain": [
              "np.float64(0.8128165515546111)"
            ]
          },
          "metadata": {},
          "execution_count": 375
        }
      ]
    },
    {
      "cell_type": "code",
      "source": [
        "x = df.apply(lambda x : pd.factorize(x)[0]).corr(method='pearson', min_periods=1)\n",
        "\n",
        "plt.imshow(x, cmap='hot', interpolation='nearest')"
      ],
      "metadata": {
        "colab": {
          "base_uri": "https://localhost:8080/",
          "height": 450
        },
        "id": "3KSoTG6r7YmE",
        "outputId": "b64962b6-1685-4db6-8ad0-35c0ee8eac4c"
      },
      "execution_count": 344,
      "outputs": [
        {
          "output_type": "execute_result",
          "data": {
            "text/plain": [
              "<matplotlib.image.AxesImage at 0x7e3118331cd0>"
            ]
          },
          "metadata": {},
          "execution_count": 344
        },
        {
          "output_type": "display_data",
          "data": {
            "text/plain": [
              "<Figure size 640x480 with 1 Axes>"
            ],
            "image/png": "[encoded data removed]"
          },
          "metadata": {}
        }
      ]
    },
    {
      "cell_type": "code",
      "source": [
        "quality_map = {\n",
        "    'Fa': 0.25,  # Fair\n",
        "    'TA': 0.5,   # Typical\n",
        "    'Gd': 0.75,  # Good\n",
        "    'Ex': 1.0    # Excellent\n",
        "}\n",
        "\n",
        "df['ExterQual'] = df['ExterQual'].map(quality_map)\n",
        "df['BsmtQual'] = df['BsmtQual'].map(quality_map)\n",
        "df['KitchenQual'] = df['KitchenQual'].map(quality_map)\n",
        "df['HeatingQC'] = df['KitchenQual'].map(quality_map)"
      ],
      "metadata": {
        "id": "gq1RKFs-FJMK"
      },
      "execution_count": 345,
      "outputs": []
    },
    {
      "cell_type": "code",
      "source": [
        "quality_columns = [\"ExterQual\", \"KitchenQual\", \"OverallQual\"]\n",
        "\n",
        "for column in quality_columns:\n",
        "  for i, row in df.iterrows():\n",
        "    if pd.isnull(row[column]):\n",
        "      print(column, i)"
      ],
      "metadata": {
        "id": "ld0tQ9bTSITm"
      },
      "execution_count": 358,
      "outputs": []
    },
    {
      "cell_type": "code",
      "source": [
        "df['Quality'] = 0\n",
        "\n",
        "weights = combine_optimally_for_price(\"Quality\", quality_columns)\n",
        "\n",
        "print(weights)\n",
        "\n",
        "df['Quality'].corr(df['SalePrice'])"
      ],
      "metadata": {
        "colab": {
          "base_uri": "https://localhost:8080/"
        },
        "id": "OvlL8VIeFWox",
        "outputId": "eadc2029-215e-4094-c758-5875c75c3ed8"
      },
      "execution_count": 367,
      "outputs": [
        {
          "output_type": "stream",
          "name": "stdout",
          "text": [
            "[81061.77111767 82097.59903838 32691.42332861]\n"
          ]
        },
        {
          "output_type": "execute_result",
          "data": {
            "text/plain": [
              "np.float64(0.8144187330738883)"
            ]
          },
          "metadata": {},
          "execution_count": 367
        }
      ]
    },
    {
      "cell_type": "markdown",
      "source": [
        "Clearly space is the most important factor. So we combine them.\n",
        "\n",
        "- Entire lot size LotArea\n",
        "- 1st floor square feet\n",
        "- basement square feet\n",
        "- garage area\n",
        "- front porch square feet\n",
        "- 2nd floor square feet (weight this more because houses with two floors are significantly more expensive than houses with one floor)\n",
        "-"
      ],
      "metadata": {
        "id": "P4CDR28sKO6t"
      }
    },
    {
      "cell_type": "code",
      "source": [
        "column_to_correlation = {}\n",
        "\n",
        "for column in df.select_dtypes(include=['number']).columns:\n",
        "  column_to_correlation[column] = df[column].corr(df['SalePrice'])\n",
        "\n",
        "columns_copy = list(df.select_dtypes(include=['number']).columns)\n",
        "\n",
        "columns_copy.sort(key=lambda y: column_to_correlation[y])\n",
        "columns_copy.reverse()\n",
        "\n",
        "for c in columns_copy:\n",
        "  print(c, column_to_correlation[c])"
      ],
      "metadata": {
        "colab": {
          "base_uri": "https://localhost:8080/"
        },
        "id": "-uDH2jSvFdZz",
        "outputId": "7de4e081-3ac8-43d1-b49d-73fc3c1204dc"
      },
      "execution_count": 379,
      "outputs": [
        {
          "output_type": "stream",
          "name": "stdout",
          "text": [
            "SalePrice 1.0\n",
            "Quality 0.8144187330738883\n",
            "TotalArea 0.8128165515546111\n",
            "bathroom index 0.6560645304146158\n",
            "HeatingQC nan\n",
            "OverallQual 0.7909816005838044\n",
            "ExterQual 0.6826392416562594\n",
            "KitchenQual 0.6595997207286639\n",
            "BsmtQual 0.6440193059937249\n",
            "GarageCars 0.6404091972583529\n",
            "GarageArea 0.6234314389183618\n",
            "1stFlrSF 0.6058521846919147\n",
            "Age 0.5773419469204323\n",
            "FullBath 0.5606637627484449\n",
            "TotRmsAbvGrd 0.5337231555820282\n",
            "YearBuilt 0.5228973328794969\n",
            "YearRemodAdd 0.5071009671113865\n",
            "MasVnrArea 0.4774930470957163\n",
            "Fireplaces 0.46692883675152724\n",
            "BsmtFinSF1 0.3864198062421532\n",
            "LotFrontage 0.35179909657067804\n",
            "WoodDeckSF 0.3244134445681294\n",
            "2ndFlrSF 0.3193338028320681\n",
            "OpenPorchSF 0.3158562271160555\n",
            "HalfBath 0.2841076755947831\n",
            "LotArea 0.2638433538714056\n",
            "BsmtFullBath 0.22712223313149382\n",
            "BsmtUnfSF 0.21447910554696892\n",
            "BedroomAbvGr 0.16821315430073988\n",
            "MoSold 0.046432245223819384\n",
            "BsmtFinSF2 -0.011378121450215125\n",
            "YrSold -0.028922585168730378\n",
            "OverallCond -0.07785589404867803\n",
            "MSSubClass -0.08428413512659531\n",
            "EnclosedPorch -0.12857795792595653\n"
          ]
        }
      ]
    },
    {
      "cell_type": "code",
      "source": [
        "df['Age'] = 0\n",
        "\n",
        "combine_optimally_for_price('Age', ['YearBuilt', 'YearRemodAdd'])\n",
        "\n",
        "df['Age'].corr(df['SalePrice'])"
      ],
      "metadata": {
        "colab": {
          "base_uri": "https://localhost:8080/"
        },
        "id": "6qhvdazNToOi",
        "outputId": "ddabc6b1-fddd-439e-ec9b-7d666027f9d1"
      },
      "execution_count": 377,
      "outputs": [
        {
          "output_type": "execute_result",
          "data": {
            "text/plain": [
              "np.float64(0.5773419469204323)"
            ]
          },
          "metadata": {},
          "execution_count": 377
        }
      ]
    },
    {
      "cell_type": "code",
      "source": [
        "df['bathroom index'] = 0\n",
        "\n",
        "combine_optimally_for_price('bathroom index', ['FullBath', 'HalfBath', 'BsmtFullBath'])\n",
        "\n",
        "df['bathroom index'].corr(df['SalePrice'])"
      ],
      "metadata": {
        "colab": {
          "base_uri": "https://localhost:8080/"
        },
        "id": "j96_2xkkUh9V",
        "outputId": "34105400-a644-432a-8880-a2f162c9024f"
      },
      "execution_count": 378,
      "outputs": [
        {
          "output_type": "execute_result",
          "data": {
            "text/plain": [
              "np.float64(0.6560645304146158)"
            ]
          },
          "metadata": {},
          "execution_count": 378
        }
      ]
    }
  ]
}